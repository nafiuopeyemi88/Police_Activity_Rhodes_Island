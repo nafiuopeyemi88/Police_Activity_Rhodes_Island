{
 "cells": [
  {
   "cell_type": "code",
   "execution_count": 2,
   "id": "c1202678",
   "metadata": {},
   "outputs": [],
   "source": [
    "import pandas as pd\n",
    "import numpy as np\n",
    "import matplotlib.pyplot as plt\n",
    "import seaborn as sns\n"
   ]
  },
  {
   "cell_type": "code",
   "execution_count": 5,
   "id": "9750782a",
   "metadata": {},
   "outputs": [
    {
     "name": "stderr",
     "output_type": "stream",
     "text": [
      "C:\\Users\\Juelputa\\AppData\\Local\\Temp\\ipykernel_8344\\3839292736.py:2: DtypeWarning: Columns (6,17,30) have mixed types. Specify dtype option on import or set low_memory=False.\n",
      "  ri = pd.read_csv('police.csv')\n"
     ]
    },
    {
     "data": {
      "text/html": [
       "<div>\n",
       "<style scoped>\n",
       "    .dataframe tbody tr th:only-of-type {\n",
       "        vertical-align: middle;\n",
       "    }\n",
       "\n",
       "    .dataframe tbody tr th {\n",
       "        vertical-align: top;\n",
       "    }\n",
       "\n",
       "    .dataframe thead th {\n",
       "        text-align: right;\n",
       "    }\n",
       "</style>\n",
       "<table border=\"1\" class=\"dataframe\">\n",
       "  <thead>\n",
       "    <tr style=\"text-align: right;\">\n",
       "      <th></th>\n",
       "      <th>raw_row_number</th>\n",
       "      <th>date</th>\n",
       "      <th>time</th>\n",
       "      <th>zone</th>\n",
       "      <th>subject_race</th>\n",
       "      <th>subject_sex</th>\n",
       "      <th>department_id</th>\n",
       "      <th>type</th>\n",
       "      <th>arrest_made</th>\n",
       "      <th>citation_issued</th>\n",
       "      <th>...</th>\n",
       "      <th>reason_for_stop</th>\n",
       "      <th>vehicle_make</th>\n",
       "      <th>vehicle_model</th>\n",
       "      <th>raw_BasisForStop</th>\n",
       "      <th>raw_OperatorRace</th>\n",
       "      <th>raw_OperatorSex</th>\n",
       "      <th>raw_ResultOfStop</th>\n",
       "      <th>raw_SearchResultOne</th>\n",
       "      <th>raw_SearchResultTwo</th>\n",
       "      <th>raw_SearchResultThree</th>\n",
       "    </tr>\n",
       "  </thead>\n",
       "  <tbody>\n",
       "    <tr>\n",
       "      <th>0</th>\n",
       "      <td>1</td>\n",
       "      <td>2005-11-22</td>\n",
       "      <td>11:15:00</td>\n",
       "      <td>X3</td>\n",
       "      <td>white</td>\n",
       "      <td>male</td>\n",
       "      <td>200</td>\n",
       "      <td>vehicular</td>\n",
       "      <td>False</td>\n",
       "      <td>True</td>\n",
       "      <td>...</td>\n",
       "      <td>Speeding</td>\n",
       "      <td>NaN</td>\n",
       "      <td>NaN</td>\n",
       "      <td>SP</td>\n",
       "      <td>W</td>\n",
       "      <td>M</td>\n",
       "      <td>M</td>\n",
       "      <td>NaN</td>\n",
       "      <td>NaN</td>\n",
       "      <td>NaN</td>\n",
       "    </tr>\n",
       "    <tr>\n",
       "      <th>1</th>\n",
       "      <td>2</td>\n",
       "      <td>2005-10-01</td>\n",
       "      <td>12:20:00</td>\n",
       "      <td>X3</td>\n",
       "      <td>white</td>\n",
       "      <td>male</td>\n",
       "      <td>200</td>\n",
       "      <td>vehicular</td>\n",
       "      <td>False</td>\n",
       "      <td>True</td>\n",
       "      <td>...</td>\n",
       "      <td>Speeding</td>\n",
       "      <td>NaN</td>\n",
       "      <td>NaN</td>\n",
       "      <td>SP</td>\n",
       "      <td>W</td>\n",
       "      <td>M</td>\n",
       "      <td>M</td>\n",
       "      <td>NaN</td>\n",
       "      <td>NaN</td>\n",
       "      <td>NaN</td>\n",
       "    </tr>\n",
       "    <tr>\n",
       "      <th>2</th>\n",
       "      <td>3</td>\n",
       "      <td>2005-10-01</td>\n",
       "      <td>12:30:00</td>\n",
       "      <td>X3</td>\n",
       "      <td>white</td>\n",
       "      <td>female</td>\n",
       "      <td>200</td>\n",
       "      <td>vehicular</td>\n",
       "      <td>False</td>\n",
       "      <td>True</td>\n",
       "      <td>...</td>\n",
       "      <td>Speeding</td>\n",
       "      <td>NaN</td>\n",
       "      <td>NaN</td>\n",
       "      <td>SP</td>\n",
       "      <td>W</td>\n",
       "      <td>F</td>\n",
       "      <td>M</td>\n",
       "      <td>NaN</td>\n",
       "      <td>NaN</td>\n",
       "      <td>NaN</td>\n",
       "    </tr>\n",
       "    <tr>\n",
       "      <th>3</th>\n",
       "      <td>4</td>\n",
       "      <td>2005-10-01</td>\n",
       "      <td>12:50:00</td>\n",
       "      <td>X3</td>\n",
       "      <td>white</td>\n",
       "      <td>male</td>\n",
       "      <td>200</td>\n",
       "      <td>vehicular</td>\n",
       "      <td>False</td>\n",
       "      <td>True</td>\n",
       "      <td>...</td>\n",
       "      <td>Speeding</td>\n",
       "      <td>NaN</td>\n",
       "      <td>NaN</td>\n",
       "      <td>SP</td>\n",
       "      <td>W</td>\n",
       "      <td>M</td>\n",
       "      <td>M</td>\n",
       "      <td>NaN</td>\n",
       "      <td>NaN</td>\n",
       "      <td>NaN</td>\n",
       "    </tr>\n",
       "    <tr>\n",
       "      <th>4</th>\n",
       "      <td>5</td>\n",
       "      <td>2005-10-01</td>\n",
       "      <td>13:10:00</td>\n",
       "      <td>X3</td>\n",
       "      <td>white</td>\n",
       "      <td>female</td>\n",
       "      <td>200</td>\n",
       "      <td>vehicular</td>\n",
       "      <td>False</td>\n",
       "      <td>True</td>\n",
       "      <td>...</td>\n",
       "      <td>Speeding</td>\n",
       "      <td>NaN</td>\n",
       "      <td>NaN</td>\n",
       "      <td>SP</td>\n",
       "      <td>W</td>\n",
       "      <td>F</td>\n",
       "      <td>M</td>\n",
       "      <td>NaN</td>\n",
       "      <td>NaN</td>\n",
       "      <td>NaN</td>\n",
       "    </tr>\n",
       "  </tbody>\n",
       "</table>\n",
       "<p>5 rows × 31 columns</p>\n",
       "</div>"
      ],
      "text/plain": [
       "   raw_row_number        date      time zone subject_race subject_sex  \\\n",
       "0               1  2005-11-22  11:15:00   X3        white        male   \n",
       "1               2  2005-10-01  12:20:00   X3        white        male   \n",
       "2               3  2005-10-01  12:30:00   X3        white      female   \n",
       "3               4  2005-10-01  12:50:00   X3        white        male   \n",
       "4               5  2005-10-01  13:10:00   X3        white      female   \n",
       "\n",
       "  department_id       type arrest_made citation_issued  ... reason_for_stop  \\\n",
       "0           200  vehicular       False            True  ...        Speeding   \n",
       "1           200  vehicular       False            True  ...        Speeding   \n",
       "2           200  vehicular       False            True  ...        Speeding   \n",
       "3           200  vehicular       False            True  ...        Speeding   \n",
       "4           200  vehicular       False            True  ...        Speeding   \n",
       "\n",
       "  vehicle_make vehicle_model raw_BasisForStop raw_OperatorRace  \\\n",
       "0          NaN           NaN               SP                W   \n",
       "1          NaN           NaN               SP                W   \n",
       "2          NaN           NaN               SP                W   \n",
       "3          NaN           NaN               SP                W   \n",
       "4          NaN           NaN               SP                W   \n",
       "\n",
       "  raw_OperatorSex raw_ResultOfStop raw_SearchResultOne  raw_SearchResultTwo  \\\n",
       "0               M                M                 NaN                  NaN   \n",
       "1               M                M                 NaN                  NaN   \n",
       "2               F                M                 NaN                  NaN   \n",
       "3               M                M                 NaN                  NaN   \n",
       "4               F                M                 NaN                  NaN   \n",
       "\n",
       "  raw_SearchResultThree  \n",
       "0                   NaN  \n",
       "1                   NaN  \n",
       "2                   NaN  \n",
       "3                   NaN  \n",
       "4                   NaN  \n",
       "\n",
       "[5 rows x 31 columns]"
      ]
     },
     "execution_count": 5,
     "metadata": {},
     "output_type": "execute_result"
    }
   ],
   "source": [
    "# Read 'police.csv' into a DataFrame named ri\n",
    "ri = pd.read_csv('police.csv')\n",
    "\n",
    "# Examine the head of the DataFrame\n",
    "ri.head()\n",
    "\n"
   ]
  },
  {
   "cell_type": "code",
   "execution_count": 6,
   "id": "54d30d6e",
   "metadata": {},
   "outputs": [
    {
     "data": {
      "text/plain": [
       "raw_row_number                0\n",
       "date                         10\n",
       "time                         10\n",
       "zone                         10\n",
       "subject_race              29073\n",
       "subject_sex               29097\n",
       "department_id                10\n",
       "type                          0\n",
       "arrest_made               29073\n",
       "citation_issued           29073\n",
       "warning_issued            29073\n",
       "outcome                   35841\n",
       "contraband_found         491919\n",
       "contraband_drugs         493693\n",
       "contraband_weapons       497886\n",
       "contraband_alcohol       508464\n",
       "contraband_other         491919\n",
       "frisk_performed              10\n",
       "search_conducted              0\n",
       "search_basis             491919\n",
       "reason_for_search        491919\n",
       "reason_for_stop           29073\n",
       "vehicle_make             191564\n",
       "vehicle_model            279593\n",
       "raw_BasisForStop          29073\n",
       "raw_OperatorRace          29073\n",
       "raw_OperatorSex           29073\n",
       "raw_ResultOfStop          29073\n",
       "raw_SearchResultOne      491919\n",
       "raw_SearchResultTwo      508862\n",
       "raw_SearchResultThree    509513\n",
       "dtype: int64"
      ]
     },
     "execution_count": 6,
     "metadata": {},
     "output_type": "execute_result"
    }
   ],
   "source": [
    "# Count the number of missing values in each column and explore the dataset\n",
    "ri.isnull().sum()"
   ]
  },
  {
   "cell_type": "code",
   "execution_count": 7,
   "id": "34c276a0",
   "metadata": {},
   "outputs": [
    {
     "data": {
      "text/plain": [
       "(509681, 31)"
      ]
     },
     "execution_count": 7,
     "metadata": {},
     "output_type": "execute_result"
    }
   ],
   "source": [
    "# Examine the shape of the DataFrame\n",
    "ri.shape"
   ]
  },
  {
   "cell_type": "code",
   "execution_count": null,
   "id": "e565f31c",
   "metadata": {},
   "outputs": [],
   "source": [
    "\n",
    "# Drop the 'county_name' and 'state' columns\n",
    "#ri.drop(['county_name', 'state'], axis='columns', inplace=True)\n",
    "\n"
   ]
  },
  {
   "cell_type": "code",
   "execution_count": 8,
   "id": "8cff590b",
   "metadata": {},
   "outputs": [
    {
     "data": {
      "text/plain": [
       "M    349446\n",
       "F    131138\n",
       "U        23\n",
       "N         1\n",
       "Name: raw_OperatorSex, dtype: int64"
      ]
     },
     "execution_count": 8,
     "metadata": {},
     "output_type": "execute_result"
    }
   ],
   "source": [
    "ri.raw_OperatorSex.value_counts()\n",
    "#this column specifies the sex of each driver"
   ]
  },
  {
   "cell_type": "code",
   "execution_count": 9,
   "id": "d37d5b42",
   "metadata": {},
   "outputs": [],
   "source": [
    "\n",
    "# Drop all rows that are missing 'driver_gender'\n",
    "ri.dropna(subset=['raw_OperatorSex'], inplace=True)\n"
   ]
  },
  {
   "cell_type": "code",
   "execution_count": 10,
   "id": "80a961c9",
   "metadata": {},
   "outputs": [
    {
     "data": {
      "text/plain": [
       "raw_row_number                0\n",
       "date                          0\n",
       "time                          0\n",
       "zone                          0\n",
       "subject_race                  0\n",
       "subject_sex                  24\n",
       "department_id                 0\n",
       "type                          0\n",
       "arrest_made                   0\n",
       "citation_issued               0\n",
       "warning_issued                0\n",
       "outcome                    6768\n",
       "contraband_found         462846\n",
       "contraband_drugs         464620\n",
       "contraband_weapons       468813\n",
       "contraband_alcohol       479391\n",
       "contraband_other         462846\n",
       "frisk_performed               0\n",
       "search_conducted              0\n",
       "search_basis             462846\n",
       "reason_for_search        462846\n",
       "reason_for_stop               0\n",
       "vehicle_make             162525\n",
       "vehicle_model            250554\n",
       "raw_BasisForStop              0\n",
       "raw_OperatorRace              0\n",
       "raw_OperatorSex               0\n",
       "raw_ResultOfStop              0\n",
       "raw_SearchResultOne      462846\n",
       "raw_SearchResultTwo      479789\n",
       "raw_SearchResultThree    480440\n",
       "dtype: int64"
      ]
     },
     "execution_count": 10,
     "metadata": {},
     "output_type": "execute_result"
    }
   ],
   "source": [
    "ri.isnull().sum()"
   ]
  },
  {
   "cell_type": "code",
   "execution_count": 13,
   "id": "78327d41",
   "metadata": {},
   "outputs": [
    {
     "data": {
      "text/plain": [
       "False    464005\n",
       "True      16603\n",
       "Name: arrest_made, dtype: int64"
      ]
     },
     "execution_count": 13,
     "metadata": {},
     "output_type": "execute_result"
    }
   ],
   "source": [
    "# Examinining the head of the 'is_arrested' column\n",
    "ri.arrest_made.value_counts()\n"
   ]
  },
  {
   "cell_type": "code",
   "execution_count": 15,
   "id": "5239e406",
   "metadata": {},
   "outputs": [
    {
     "data": {
      "text/plain": [
       "0    11:15:00\n",
       "1    12:20:00\n",
       "2    12:30:00\n",
       "3    12:50:00\n",
       "4    13:10:00\n",
       "Name: time, dtype: object"
      ]
     },
     "execution_count": 15,
     "metadata": {},
     "output_type": "execute_result"
    }
   ],
   "source": [
    "#concatenating the time and date column to create a datetime index."
   ]
  },
  {
   "cell_type": "code",
   "execution_count": 16,
   "id": "c080d7b7",
   "metadata": {},
   "outputs": [],
   "source": [
    "# Concatenate 'stop_date' and 'stop_time' (separated by a space)\n",
    "combined = ri.date.str.cat(ri.time, sep = ' ')\n",
    "\n",
    "# Convert 'combined' to datetime format\n",
    "ri['datetime'] = pd.to_datetime(combined)\n",
    "\n"
   ]
  },
  {
   "cell_type": "code",
   "execution_count": 17,
   "id": "b427ab5c",
   "metadata": {},
   "outputs": [
    {
     "data": {
      "text/html": [
       "<div>\n",
       "<style scoped>\n",
       "    .dataframe tbody tr th:only-of-type {\n",
       "        vertical-align: middle;\n",
       "    }\n",
       "\n",
       "    .dataframe tbody tr th {\n",
       "        vertical-align: top;\n",
       "    }\n",
       "\n",
       "    .dataframe thead th {\n",
       "        text-align: right;\n",
       "    }\n",
       "</style>\n",
       "<table border=\"1\" class=\"dataframe\">\n",
       "  <thead>\n",
       "    <tr style=\"text-align: right;\">\n",
       "      <th></th>\n",
       "      <th>raw_row_number</th>\n",
       "      <th>date</th>\n",
       "      <th>time</th>\n",
       "      <th>zone</th>\n",
       "      <th>subject_race</th>\n",
       "      <th>subject_sex</th>\n",
       "      <th>department_id</th>\n",
       "      <th>type</th>\n",
       "      <th>arrest_made</th>\n",
       "      <th>citation_issued</th>\n",
       "      <th>...</th>\n",
       "      <th>vehicle_make</th>\n",
       "      <th>vehicle_model</th>\n",
       "      <th>raw_BasisForStop</th>\n",
       "      <th>raw_OperatorRace</th>\n",
       "      <th>raw_OperatorSex</th>\n",
       "      <th>raw_ResultOfStop</th>\n",
       "      <th>raw_SearchResultOne</th>\n",
       "      <th>raw_SearchResultTwo</th>\n",
       "      <th>raw_SearchResultThree</th>\n",
       "      <th>datetime</th>\n",
       "    </tr>\n",
       "  </thead>\n",
       "  <tbody>\n",
       "    <tr>\n",
       "      <th>0</th>\n",
       "      <td>1</td>\n",
       "      <td>2005-11-22</td>\n",
       "      <td>11:15:00</td>\n",
       "      <td>X3</td>\n",
       "      <td>white</td>\n",
       "      <td>male</td>\n",
       "      <td>200</td>\n",
       "      <td>vehicular</td>\n",
       "      <td>False</td>\n",
       "      <td>True</td>\n",
       "      <td>...</td>\n",
       "      <td>NaN</td>\n",
       "      <td>NaN</td>\n",
       "      <td>SP</td>\n",
       "      <td>W</td>\n",
       "      <td>M</td>\n",
       "      <td>M</td>\n",
       "      <td>NaN</td>\n",
       "      <td>NaN</td>\n",
       "      <td>NaN</td>\n",
       "      <td>2005-11-22 11:15:00</td>\n",
       "    </tr>\n",
       "    <tr>\n",
       "      <th>1</th>\n",
       "      <td>2</td>\n",
       "      <td>2005-10-01</td>\n",
       "      <td>12:20:00</td>\n",
       "      <td>X3</td>\n",
       "      <td>white</td>\n",
       "      <td>male</td>\n",
       "      <td>200</td>\n",
       "      <td>vehicular</td>\n",
       "      <td>False</td>\n",
       "      <td>True</td>\n",
       "      <td>...</td>\n",
       "      <td>NaN</td>\n",
       "      <td>NaN</td>\n",
       "      <td>SP</td>\n",
       "      <td>W</td>\n",
       "      <td>M</td>\n",
       "      <td>M</td>\n",
       "      <td>NaN</td>\n",
       "      <td>NaN</td>\n",
       "      <td>NaN</td>\n",
       "      <td>2005-10-01 12:20:00</td>\n",
       "    </tr>\n",
       "    <tr>\n",
       "      <th>2</th>\n",
       "      <td>3</td>\n",
       "      <td>2005-10-01</td>\n",
       "      <td>12:30:00</td>\n",
       "      <td>X3</td>\n",
       "      <td>white</td>\n",
       "      <td>female</td>\n",
       "      <td>200</td>\n",
       "      <td>vehicular</td>\n",
       "      <td>False</td>\n",
       "      <td>True</td>\n",
       "      <td>...</td>\n",
       "      <td>NaN</td>\n",
       "      <td>NaN</td>\n",
       "      <td>SP</td>\n",
       "      <td>W</td>\n",
       "      <td>F</td>\n",
       "      <td>M</td>\n",
       "      <td>NaN</td>\n",
       "      <td>NaN</td>\n",
       "      <td>NaN</td>\n",
       "      <td>2005-10-01 12:30:00</td>\n",
       "    </tr>\n",
       "    <tr>\n",
       "      <th>3</th>\n",
       "      <td>4</td>\n",
       "      <td>2005-10-01</td>\n",
       "      <td>12:50:00</td>\n",
       "      <td>X3</td>\n",
       "      <td>white</td>\n",
       "      <td>male</td>\n",
       "      <td>200</td>\n",
       "      <td>vehicular</td>\n",
       "      <td>False</td>\n",
       "      <td>True</td>\n",
       "      <td>...</td>\n",
       "      <td>NaN</td>\n",
       "      <td>NaN</td>\n",
       "      <td>SP</td>\n",
       "      <td>W</td>\n",
       "      <td>M</td>\n",
       "      <td>M</td>\n",
       "      <td>NaN</td>\n",
       "      <td>NaN</td>\n",
       "      <td>NaN</td>\n",
       "      <td>2005-10-01 12:50:00</td>\n",
       "    </tr>\n",
       "    <tr>\n",
       "      <th>4</th>\n",
       "      <td>5</td>\n",
       "      <td>2005-10-01</td>\n",
       "      <td>13:10:00</td>\n",
       "      <td>X3</td>\n",
       "      <td>white</td>\n",
       "      <td>female</td>\n",
       "      <td>200</td>\n",
       "      <td>vehicular</td>\n",
       "      <td>False</td>\n",
       "      <td>True</td>\n",
       "      <td>...</td>\n",
       "      <td>NaN</td>\n",
       "      <td>NaN</td>\n",
       "      <td>SP</td>\n",
       "      <td>W</td>\n",
       "      <td>F</td>\n",
       "      <td>M</td>\n",
       "      <td>NaN</td>\n",
       "      <td>NaN</td>\n",
       "      <td>NaN</td>\n",
       "      <td>2005-10-01 13:10:00</td>\n",
       "    </tr>\n",
       "  </tbody>\n",
       "</table>\n",
       "<p>5 rows × 32 columns</p>\n",
       "</div>"
      ],
      "text/plain": [
       "   raw_row_number        date      time zone subject_race subject_sex  \\\n",
       "0               1  2005-11-22  11:15:00   X3        white        male   \n",
       "1               2  2005-10-01  12:20:00   X3        white        male   \n",
       "2               3  2005-10-01  12:30:00   X3        white      female   \n",
       "3               4  2005-10-01  12:50:00   X3        white        male   \n",
       "4               5  2005-10-01  13:10:00   X3        white      female   \n",
       "\n",
       "  department_id       type arrest_made citation_issued  ... vehicle_make  \\\n",
       "0           200  vehicular       False            True  ...          NaN   \n",
       "1           200  vehicular       False            True  ...          NaN   \n",
       "2           200  vehicular       False            True  ...          NaN   \n",
       "3           200  vehicular       False            True  ...          NaN   \n",
       "4           200  vehicular       False            True  ...          NaN   \n",
       "\n",
       "  vehicle_model raw_BasisForStop raw_OperatorRace raw_OperatorSex  \\\n",
       "0           NaN               SP                W               M   \n",
       "1           NaN               SP                W               M   \n",
       "2           NaN               SP                W               F   \n",
       "3           NaN               SP                W               M   \n",
       "4           NaN               SP                W               F   \n",
       "\n",
       "  raw_ResultOfStop raw_SearchResultOne raw_SearchResultTwo  \\\n",
       "0                M                 NaN                 NaN   \n",
       "1                M                 NaN                 NaN   \n",
       "2                M                 NaN                 NaN   \n",
       "3                M                 NaN                 NaN   \n",
       "4                M                 NaN                 NaN   \n",
       "\n",
       "   raw_SearchResultThree            datetime  \n",
       "0                    NaN 2005-11-22 11:15:00  \n",
       "1                    NaN 2005-10-01 12:20:00  \n",
       "2                    NaN 2005-10-01 12:30:00  \n",
       "3                    NaN 2005-10-01 12:50:00  \n",
       "4                    NaN 2005-10-01 13:10:00  \n",
       "\n",
       "[5 rows x 32 columns]"
      ]
     },
     "execution_count": 17,
     "metadata": {},
     "output_type": "execute_result"
    }
   ],
   "source": [
    "ri.head()"
   ]
  },
  {
   "cell_type": "code",
   "execution_count": 18,
   "id": "915290b7",
   "metadata": {},
   "outputs": [],
   "source": [
    "# Set 'stop_datetime' as the index\n",
    "ri.set_index('datetime', inplace=True)\n"
   ]
  },
  {
   "cell_type": "code",
   "execution_count": 19,
   "id": "4c09373f",
   "metadata": {},
   "outputs": [
    {
     "data": {
      "text/html": [
       "<div>\n",
       "<style scoped>\n",
       "    .dataframe tbody tr th:only-of-type {\n",
       "        vertical-align: middle;\n",
       "    }\n",
       "\n",
       "    .dataframe tbody tr th {\n",
       "        vertical-align: top;\n",
       "    }\n",
       "\n",
       "    .dataframe thead th {\n",
       "        text-align: right;\n",
       "    }\n",
       "</style>\n",
       "<table border=\"1\" class=\"dataframe\">\n",
       "  <thead>\n",
       "    <tr style=\"text-align: right;\">\n",
       "      <th></th>\n",
       "      <th>raw_row_number</th>\n",
       "      <th>date</th>\n",
       "      <th>time</th>\n",
       "      <th>zone</th>\n",
       "      <th>subject_race</th>\n",
       "      <th>subject_sex</th>\n",
       "      <th>department_id</th>\n",
       "      <th>type</th>\n",
       "      <th>arrest_made</th>\n",
       "      <th>citation_issued</th>\n",
       "      <th>...</th>\n",
       "      <th>reason_for_stop</th>\n",
       "      <th>vehicle_make</th>\n",
       "      <th>vehicle_model</th>\n",
       "      <th>raw_BasisForStop</th>\n",
       "      <th>raw_OperatorRace</th>\n",
       "      <th>raw_OperatorSex</th>\n",
       "      <th>raw_ResultOfStop</th>\n",
       "      <th>raw_SearchResultOne</th>\n",
       "      <th>raw_SearchResultTwo</th>\n",
       "      <th>raw_SearchResultThree</th>\n",
       "    </tr>\n",
       "    <tr>\n",
       "      <th>datetime</th>\n",
       "      <th></th>\n",
       "      <th></th>\n",
       "      <th></th>\n",
       "      <th></th>\n",
       "      <th></th>\n",
       "      <th></th>\n",
       "      <th></th>\n",
       "      <th></th>\n",
       "      <th></th>\n",
       "      <th></th>\n",
       "      <th></th>\n",
       "      <th></th>\n",
       "      <th></th>\n",
       "      <th></th>\n",
       "      <th></th>\n",
       "      <th></th>\n",
       "      <th></th>\n",
       "      <th></th>\n",
       "      <th></th>\n",
       "      <th></th>\n",
       "      <th></th>\n",
       "    </tr>\n",
       "  </thead>\n",
       "  <tbody>\n",
       "    <tr>\n",
       "      <th>2005-11-22 11:15:00</th>\n",
       "      <td>1</td>\n",
       "      <td>2005-11-22</td>\n",
       "      <td>11:15:00</td>\n",
       "      <td>X3</td>\n",
       "      <td>white</td>\n",
       "      <td>male</td>\n",
       "      <td>200</td>\n",
       "      <td>vehicular</td>\n",
       "      <td>False</td>\n",
       "      <td>True</td>\n",
       "      <td>...</td>\n",
       "      <td>Speeding</td>\n",
       "      <td>NaN</td>\n",
       "      <td>NaN</td>\n",
       "      <td>SP</td>\n",
       "      <td>W</td>\n",
       "      <td>M</td>\n",
       "      <td>M</td>\n",
       "      <td>NaN</td>\n",
       "      <td>NaN</td>\n",
       "      <td>NaN</td>\n",
       "    </tr>\n",
       "    <tr>\n",
       "      <th>2005-10-01 12:20:00</th>\n",
       "      <td>2</td>\n",
       "      <td>2005-10-01</td>\n",
       "      <td>12:20:00</td>\n",
       "      <td>X3</td>\n",
       "      <td>white</td>\n",
       "      <td>male</td>\n",
       "      <td>200</td>\n",
       "      <td>vehicular</td>\n",
       "      <td>False</td>\n",
       "      <td>True</td>\n",
       "      <td>...</td>\n",
       "      <td>Speeding</td>\n",
       "      <td>NaN</td>\n",
       "      <td>NaN</td>\n",
       "      <td>SP</td>\n",
       "      <td>W</td>\n",
       "      <td>M</td>\n",
       "      <td>M</td>\n",
       "      <td>NaN</td>\n",
       "      <td>NaN</td>\n",
       "      <td>NaN</td>\n",
       "    </tr>\n",
       "    <tr>\n",
       "      <th>2005-10-01 12:30:00</th>\n",
       "      <td>3</td>\n",
       "      <td>2005-10-01</td>\n",
       "      <td>12:30:00</td>\n",
       "      <td>X3</td>\n",
       "      <td>white</td>\n",
       "      <td>female</td>\n",
       "      <td>200</td>\n",
       "      <td>vehicular</td>\n",
       "      <td>False</td>\n",
       "      <td>True</td>\n",
       "      <td>...</td>\n",
       "      <td>Speeding</td>\n",
       "      <td>NaN</td>\n",
       "      <td>NaN</td>\n",
       "      <td>SP</td>\n",
       "      <td>W</td>\n",
       "      <td>F</td>\n",
       "      <td>M</td>\n",
       "      <td>NaN</td>\n",
       "      <td>NaN</td>\n",
       "      <td>NaN</td>\n",
       "    </tr>\n",
       "    <tr>\n",
       "      <th>2005-10-01 12:50:00</th>\n",
       "      <td>4</td>\n",
       "      <td>2005-10-01</td>\n",
       "      <td>12:50:00</td>\n",
       "      <td>X3</td>\n",
       "      <td>white</td>\n",
       "      <td>male</td>\n",
       "      <td>200</td>\n",
       "      <td>vehicular</td>\n",
       "      <td>False</td>\n",
       "      <td>True</td>\n",
       "      <td>...</td>\n",
       "      <td>Speeding</td>\n",
       "      <td>NaN</td>\n",
       "      <td>NaN</td>\n",
       "      <td>SP</td>\n",
       "      <td>W</td>\n",
       "      <td>M</td>\n",
       "      <td>M</td>\n",
       "      <td>NaN</td>\n",
       "      <td>NaN</td>\n",
       "      <td>NaN</td>\n",
       "    </tr>\n",
       "    <tr>\n",
       "      <th>2005-10-01 13:10:00</th>\n",
       "      <td>5</td>\n",
       "      <td>2005-10-01</td>\n",
       "      <td>13:10:00</td>\n",
       "      <td>X3</td>\n",
       "      <td>white</td>\n",
       "      <td>female</td>\n",
       "      <td>200</td>\n",
       "      <td>vehicular</td>\n",
       "      <td>False</td>\n",
       "      <td>True</td>\n",
       "      <td>...</td>\n",
       "      <td>Speeding</td>\n",
       "      <td>NaN</td>\n",
       "      <td>NaN</td>\n",
       "      <td>SP</td>\n",
       "      <td>W</td>\n",
       "      <td>F</td>\n",
       "      <td>M</td>\n",
       "      <td>NaN</td>\n",
       "      <td>NaN</td>\n",
       "      <td>NaN</td>\n",
       "    </tr>\n",
       "  </tbody>\n",
       "</table>\n",
       "<p>5 rows × 31 columns</p>\n",
       "</div>"
      ],
      "text/plain": [
       "                     raw_row_number        date      time zone subject_race  \\\n",
       "datetime                                                                      \n",
       "2005-11-22 11:15:00               1  2005-11-22  11:15:00   X3        white   \n",
       "2005-10-01 12:20:00               2  2005-10-01  12:20:00   X3        white   \n",
       "2005-10-01 12:30:00               3  2005-10-01  12:30:00   X3        white   \n",
       "2005-10-01 12:50:00               4  2005-10-01  12:50:00   X3        white   \n",
       "2005-10-01 13:10:00               5  2005-10-01  13:10:00   X3        white   \n",
       "\n",
       "                    subject_sex department_id       type arrest_made  \\\n",
       "datetime                                                               \n",
       "2005-11-22 11:15:00        male           200  vehicular       False   \n",
       "2005-10-01 12:20:00        male           200  vehicular       False   \n",
       "2005-10-01 12:30:00      female           200  vehicular       False   \n",
       "2005-10-01 12:50:00        male           200  vehicular       False   \n",
       "2005-10-01 13:10:00      female           200  vehicular       False   \n",
       "\n",
       "                    citation_issued  ... reason_for_stop vehicle_make  \\\n",
       "datetime                             ...                                \n",
       "2005-11-22 11:15:00            True  ...        Speeding          NaN   \n",
       "2005-10-01 12:20:00            True  ...        Speeding          NaN   \n",
       "2005-10-01 12:30:00            True  ...        Speeding          NaN   \n",
       "2005-10-01 12:50:00            True  ...        Speeding          NaN   \n",
       "2005-10-01 13:10:00            True  ...        Speeding          NaN   \n",
       "\n",
       "                    vehicle_model raw_BasisForStop raw_OperatorRace  \\\n",
       "datetime                                                              \n",
       "2005-11-22 11:15:00           NaN               SP                W   \n",
       "2005-10-01 12:20:00           NaN               SP                W   \n",
       "2005-10-01 12:30:00           NaN               SP                W   \n",
       "2005-10-01 12:50:00           NaN               SP                W   \n",
       "2005-10-01 13:10:00           NaN               SP                W   \n",
       "\n",
       "                    raw_OperatorSex raw_ResultOfStop raw_SearchResultOne  \\\n",
       "datetime                                                                   \n",
       "2005-11-22 11:15:00               M                M                 NaN   \n",
       "2005-10-01 12:20:00               M                M                 NaN   \n",
       "2005-10-01 12:30:00               F                M                 NaN   \n",
       "2005-10-01 12:50:00               M                M                 NaN   \n",
       "2005-10-01 13:10:00               F                M                 NaN   \n",
       "\n",
       "                     raw_SearchResultTwo raw_SearchResultThree  \n",
       "datetime                                                        \n",
       "2005-11-22 11:15:00                  NaN                   NaN  \n",
       "2005-10-01 12:20:00                  NaN                   NaN  \n",
       "2005-10-01 12:30:00                  NaN                   NaN  \n",
       "2005-10-01 12:50:00                  NaN                   NaN  \n",
       "2005-10-01 13:10:00                  NaN                   NaN  \n",
       "\n",
       "[5 rows x 31 columns]"
      ]
     },
     "execution_count": 19,
     "metadata": {},
     "output_type": "execute_result"
    }
   ],
   "source": [
    "ri.head()"
   ]
  },
  {
   "cell_type": "code",
   "execution_count": null,
   "id": "f1229f35",
   "metadata": {},
   "outputs": [],
   "source": [
    "#exploring relationships between gender and police stopping the drivers."
   ]
  },
  {
   "cell_type": "code",
   "execution_count": 21,
   "id": "260202b8",
   "metadata": {},
   "outputs": [
    {
     "data": {
      "text/plain": [
       "Speeding                            0.559175\n",
       "Other Traffic Violation             0.187750\n",
       "Equipment/Inspection Violation      0.127447\n",
       "Registration Violation              0.041260\n",
       "Seatbelt Violation                  0.033972\n",
       "Special Detail/Directed Patrol      0.028385\n",
       "Call for Service                    0.015832\n",
       "Violation of City/Town Ordinance    0.002156\n",
       "Motorist Assist/Courtesy            0.002060\n",
       "APB                                 0.001009\n",
       "Suspicious Person                   0.000712\n",
       "Warrant                             0.000243\n",
       "Name: reason_for_stop, dtype: float64"
      ]
     },
     "execution_count": 21,
     "metadata": {},
     "output_type": "execute_result"
    }
   ],
   "source": [
    "ri.reason_for_stop.value_counts(normalize = True)"
   ]
  },
  {
   "cell_type": "code",
   "execution_count": null,
   "id": "16493325",
   "metadata": {},
   "outputs": [],
   "source": []
  },
  {
   "cell_type": "code",
   "execution_count": 22,
   "id": "48aac854",
   "metadata": {},
   "outputs": [],
   "source": [
    "# Creating a DataFrame of female and male drivers\n",
    "female = ri[ri.raw_OperatorSex == 'F']\n",
    "\n",
    "male = ri[ri.raw_OperatorSex == 'M']\n",
    "\n"
   ]
  },
  {
   "cell_type": "code",
   "execution_count": 23,
   "id": "9a023b4e",
   "metadata": {},
   "outputs": [
    {
     "data": {
      "text/plain": [
       "Speeding                            0.657308\n",
       "Other Traffic Violation             0.136581\n",
       "Equipment/Inspection Violation      0.107055\n",
       "Registration Violation              0.043077\n",
       "Seatbelt Violation                  0.027071\n",
       "Call for Service                    0.018057\n",
       "Special Detail/Directed Patrol      0.005071\n",
       "Motorist Assist/Courtesy            0.002532\n",
       "Violation of City/Town Ordinance    0.001647\n",
       "APB                                 0.000831\n",
       "Suspicious Person                   0.000564\n",
       "Warrant                             0.000206\n",
       "Name: reason_for_stop, dtype: float64"
      ]
     },
     "execution_count": 23,
     "metadata": {},
     "output_type": "execute_result"
    }
   ],
   "source": [
    "# Compute the violations by female drivers (as proportions)\n",
    "female.reason_for_stop.value_counts(normalize = True)\n",
    "\n"
   ]
  },
  {
   "cell_type": "code",
   "execution_count": 24,
   "id": "437ef7dd",
   "metadata": {},
   "outputs": [
    {
     "data": {
      "text/plain": [
       "Speeding                            0.522364\n",
       "Other Traffic Violation             0.206948\n",
       "Equipment/Inspection Violation      0.135102\n",
       "Registration Violation              0.040581\n",
       "Special Detail/Directed Patrol      0.037136\n",
       "Seatbelt Violation                  0.036555\n",
       "Call for Service                    0.014987\n",
       "Violation of City/Town Ordinance    0.002347\n",
       "Motorist Assist/Courtesy            0.001880\n",
       "APB                                 0.001076\n",
       "Suspicious Person                   0.000767\n",
       "Warrant                             0.000258\n",
       "Name: reason_for_stop, dtype: float64"
      ]
     },
     "execution_count": 24,
     "metadata": {},
     "output_type": "execute_result"
    }
   ],
   "source": [
    "# Compute the violations by male drivers (as proportions)\n",
    "male.reason_for_stop.value_counts(normalize = True)"
   ]
  },
  {
   "cell_type": "code",
   "execution_count": 26,
   "id": "1d833ae7",
   "metadata": {},
   "outputs": [],
   "source": [
    "# Create a DataFrame of female drivers stopped for speeding\n",
    "female_and_speeding = ri[(ri.raw_OperatorSex == 'F') & (ri.reason_for_stop == 'Speeding')]"
   ]
  },
  {
   "cell_type": "code",
   "execution_count": 27,
   "id": "a007178b",
   "metadata": {},
   "outputs": [],
   "source": [
    "# Create a DataFrame of male drivers stopped for speeding\n",
    "male_and_speeding = ri[(ri.raw_OperatorSex == 'M') & (ri.reason_for_stop == 'Speeding')]"
   ]
  },
  {
   "cell_type": "code",
   "execution_count": 32,
   "id": "4399959e",
   "metadata": {},
   "outputs": [
    {
     "name": "stdout",
     "output_type": "stream",
     "text": [
      "<class 'pandas.core.frame.DataFrame'>\n",
      "DatetimeIndex: 480608 entries, 2005-11-22 11:15:00 to 2015-10-30 11:09:00\n",
      "Data columns (total 31 columns):\n",
      " #   Column                 Non-Null Count   Dtype \n",
      "---  ------                 --------------   ----- \n",
      " 0   raw_row_number         480608 non-null  int64 \n",
      " 1   date                   480608 non-null  object\n",
      " 2   time                   480608 non-null  object\n",
      " 3   zone                   480608 non-null  object\n",
      " 4   subject_race           480608 non-null  object\n",
      " 5   subject_sex            480584 non-null  object\n",
      " 6   department_id          480608 non-null  object\n",
      " 7   type                   480608 non-null  object\n",
      " 8   arrest_made            480608 non-null  object\n",
      " 9   citation_issued        480608 non-null  object\n",
      " 10  warning_issued         480608 non-null  object\n",
      " 11  outcome                473840 non-null  object\n",
      " 12  contraband_found       17762 non-null   object\n",
      " 13  contraband_drugs       15988 non-null   object\n",
      " 14  contraband_weapons     11795 non-null   object\n",
      " 15  contraband_alcohol     1217 non-null    object\n",
      " 16  contraband_other       17762 non-null   object\n",
      " 17  frisk_performed        480608 non-null  object\n",
      " 18  search_conducted       480608 non-null  bool  \n",
      " 19  search_basis           17762 non-null   object\n",
      " 20  reason_for_search      17762 non-null   object\n",
      " 21  reason_for_stop        480608 non-null  object\n",
      " 22  vehicle_make           318083 non-null  object\n",
      " 23  vehicle_model          230054 non-null  object\n",
      " 24  raw_BasisForStop       480608 non-null  object\n",
      " 25  raw_OperatorRace       480608 non-null  object\n",
      " 26  raw_OperatorSex        480608 non-null  object\n",
      " 27  raw_ResultOfStop       480608 non-null  object\n",
      " 28  raw_SearchResultOne    17762 non-null   object\n",
      " 29  raw_SearchResultTwo    819 non-null     object\n",
      " 30  raw_SearchResultThree  168 non-null     object\n",
      "dtypes: bool(1), int64(1), object(29)\n",
      "memory usage: 114.1+ MB\n"
     ]
    }
   ],
   "source": [
    "ri.info()"
   ]
  },
  {
   "cell_type": "code",
   "execution_count": 34,
   "id": "b7c72032",
   "metadata": {},
   "outputs": [
    {
     "data": {
      "text/plain": [
       "M    0.953247\n",
       "W    0.039003\n",
       "D    0.005290\n",
       "P    0.001033\n",
       "N    0.000905\n",
       "A    0.000522\n",
       "Name: raw_ResultOfStop, dtype: float64"
      ]
     },
     "execution_count": 34,
     "metadata": {},
     "output_type": "execute_result"
    }
   ],
   "source": [
    "# Compute the stop outcomes for female drivers (as proportions)\n",
    "female_and_speeding.raw_ResultOfStop.value_counts(normalize=True)"
   ]
  },
  {
   "cell_type": "code",
   "execution_count": null,
   "id": "9ac49eff",
   "metadata": {},
   "outputs": [],
   "source": [
    "'''\n",
    "where m stands for \n",
    "m = Citation            9.522e-01\n",
    "w = Warning             4.007e-02\n",
    "d = Arrest Driver       5.752e-03\n",
    "p = N/D                 9.587e-04\n",
    "n = Arrest Passenger    6.391e-04\n",
    "a = No Action           3.835e-04\n",
    "'''"
   ]
  },
  {
   "cell_type": "code",
   "execution_count": 35,
   "id": "6b5add11",
   "metadata": {},
   "outputs": [
    {
     "data": {
      "text/plain": [
       "M    0.944636\n",
       "W    0.036086\n",
       "D    0.015767\n",
       "P    0.001265\n",
       "N    0.001183\n",
       "A    0.001063\n",
       "Name: raw_ResultOfStop, dtype: float64"
      ]
     },
     "execution_count": 35,
     "metadata": {},
     "output_type": "execute_result"
    }
   ],
   "source": [
    "# Compute the stop outcomes for male drivers (as proportions)\n",
    "male_and_speeding.raw_ResultOfStop.value_counts(normalize=True)"
   ]
  },
  {
   "cell_type": "code",
   "execution_count": 36,
   "id": "061e49ae",
   "metadata": {},
   "outputs": [
    {
     "data": {
      "text/plain": [
       "dtype('bool')"
      ]
     },
     "execution_count": 36,
     "metadata": {},
     "output_type": "execute_result"
    }
   ],
   "source": [
    "\n",
    "ri.search_conducted.dtype"
   ]
  },
  {
   "cell_type": "code",
   "execution_count": 37,
   "id": "2fad6ed1",
   "metadata": {},
   "outputs": [
    {
     "data": {
      "text/plain": [
       "False    0.963043\n",
       "True     0.036957\n",
       "Name: search_conducted, dtype: float64"
      ]
     },
     "execution_count": 37,
     "metadata": {},
     "output_type": "execute_result"
    }
   ],
   "source": [
    "ri.search_conducted.value_counts(normalize = True)"
   ]
  },
  {
   "cell_type": "code",
   "execution_count": 38,
   "id": "1eed79b1",
   "metadata": {},
   "outputs": [
    {
     "data": {
      "text/plain": [
       "0.03695735401824356"
      ]
     },
     "execution_count": 38,
     "metadata": {},
     "output_type": "execute_result"
    }
   ],
   "source": [
    "\n",
    "ri.search_conducted.mean()"
   ]
  },
  {
   "cell_type": "code",
   "execution_count": 39,
   "id": "b4e8db4e",
   "metadata": {},
   "outputs": [
    {
     "data": {
      "text/plain": [
       "0.018751239152648355"
      ]
     },
     "execution_count": 39,
     "metadata": {},
     "output_type": "execute_result"
    }
   ],
   "source": [
    "ri[ri.raw_OperatorSex == 'F'].search_conducted.mean()"
   ]
  },
  {
   "cell_type": "code",
   "execution_count": 40,
   "id": "1908a76b",
   "metadata": {},
   "outputs": [
    {
     "data": {
      "text/plain": [
       "0.04379217389811301"
      ]
     },
     "execution_count": 40,
     "metadata": {},
     "output_type": "execute_result"
    }
   ],
   "source": [
    "ri[ri.raw_OperatorSex == 'M'].search_conducted.mean()"
   ]
  },
  {
   "cell_type": "code",
   "execution_count": 45,
   "id": "1d7f0f8e",
   "metadata": {},
   "outputs": [],
   "source": [
    "values = ['N', 'U']\n",
    "ri = ri[ri.raw_OperatorSex.isin(values) == False]\n",
    "\n",
    "#df = df[df.column_name.isin(values) == False]"
   ]
  },
  {
   "cell_type": "code",
   "execution_count": 46,
   "id": "bd5d5ed4",
   "metadata": {},
   "outputs": [
    {
     "data": {
      "text/plain": [
       "raw_OperatorSex\n",
       "F    0.018751\n",
       "M    0.043792\n",
       "Name: search_conducted, dtype: float64"
      ]
     },
     "execution_count": 46,
     "metadata": {},
     "output_type": "execute_result"
    }
   ],
   "source": [
    "ri.groupby('raw_OperatorSex').search_conducted.mean()"
   ]
  },
  {
   "cell_type": "code",
   "execution_count": 47,
   "id": "6c1b821a",
   "metadata": {},
   "outputs": [
    {
     "data": {
      "text/plain": [
       "raw_OperatorSex  reason_for_stop                 \n",
       "F                APB                                 0.165138\n",
       "                 Call for Service                    0.042230\n",
       "                 Equipment/Inspection Violation      0.040245\n",
       "                 Motorist Assist/Courtesy            0.033133\n",
       "                 Other Traffic Violation             0.038021\n",
       "                 Registration Violation              0.054700\n",
       "                 Seatbelt Violation                  0.017746\n",
       "                 Special Detail/Directed Patrol      0.018045\n",
       "                 Speeding                            0.007738\n",
       "                 Suspicious Person                   0.216216\n",
       "                 Violation of City/Town Ordinance    0.060185\n",
       "                 Warrant                             0.148148\n",
       "M                APB                                 0.255319\n",
       "                 Call for Service                    0.092419\n",
       "                 Equipment/Inspection Violation      0.070916\n",
       "                 Motorist Assist/Courtesy            0.089802\n",
       "                 Other Traffic Violation             0.059156\n",
       "                 Registration Violation              0.103589\n",
       "                 Seatbelt Violation                  0.031705\n",
       "                 Special Detail/Directed Patrol      0.010249\n",
       "                 Speeding                            0.026630\n",
       "                 Suspicious Person                   0.305970\n",
       "                 Violation of City/Town Ordinance    0.073171\n",
       "                 Warrant                             0.311111\n",
       "Name: search_conducted, dtype: float64"
      ]
     },
     "execution_count": 47,
     "metadata": {},
     "output_type": "execute_result"
    }
   ],
   "source": [
    "ri.groupby(['raw_OperatorSex', 'reason_for_stop']).search_conducted.mean()"
   ]
  },
  {
   "cell_type": "code",
   "execution_count": 49,
   "id": "5ad4ada4",
   "metadata": {},
   "outputs": [
    {
     "name": "stdout",
     "output_type": "stream",
     "text": [
      "<class 'pandas.core.frame.DataFrame'>\n",
      "DatetimeIndex: 480584 entries, 2005-11-22 11:15:00 to 2015-10-30 11:09:00\n",
      "Data columns (total 31 columns):\n",
      " #   Column                 Non-Null Count   Dtype \n",
      "---  ------                 --------------   ----- \n",
      " 0   raw_row_number         480584 non-null  int64 \n",
      " 1   date                   480584 non-null  object\n",
      " 2   time                   480584 non-null  object\n",
      " 3   zone                   480584 non-null  object\n",
      " 4   subject_race           480584 non-null  object\n",
      " 5   subject_sex            480584 non-null  object\n",
      " 6   department_id          480584 non-null  object\n",
      " 7   type                   480584 non-null  object\n",
      " 8   arrest_made            480584 non-null  object\n",
      " 9   citation_issued        480584 non-null  object\n",
      " 10  warning_issued         480584 non-null  object\n",
      " 11  outcome                473821 non-null  object\n",
      " 12  contraband_found       17762 non-null   object\n",
      " 13  contraband_drugs       15988 non-null   object\n",
      " 14  contraband_weapons     11795 non-null   object\n",
      " 15  contraband_alcohol     1217 non-null    object\n",
      " 16  contraband_other       17762 non-null   object\n",
      " 17  frisk_performed        480584 non-null  object\n",
      " 18  search_conducted       480584 non-null  bool  \n",
      " 19  search_basis           17762 non-null   object\n",
      " 20  reason_for_search      17762 non-null   object\n",
      " 21  reason_for_stop        480584 non-null  object\n",
      " 22  vehicle_make           318059 non-null  object\n",
      " 23  vehicle_model          230031 non-null  object\n",
      " 24  raw_BasisForStop       480584 non-null  object\n",
      " 25  raw_OperatorRace       480584 non-null  object\n",
      " 26  raw_OperatorSex        480584 non-null  object\n",
      " 27  raw_ResultOfStop       480584 non-null  object\n",
      " 28  raw_SearchResultOne    17762 non-null   object\n",
      " 29  raw_SearchResultTwo    819 non-null     object\n",
      " 30  raw_SearchResultThree  168 non-null     object\n",
      "dtypes: bool(1), int64(1), object(29)\n",
      "memory usage: 114.1+ MB\n"
     ]
    }
   ],
   "source": [
    "ri.info()"
   ]
  },
  {
   "cell_type": "code",
   "execution_count": 56,
   "id": "7c8e1320",
   "metadata": {},
   "outputs": [
    {
     "data": {
      "text/plain": [
       "Incident to Arrest                      6998\n",
       "Probable Cause                          2063\n",
       "Odor of Drugs/Alcohol                   1872\n",
       "Reasonable Suspicion                    1141\n",
       "Inventory/Tow                           1101\n",
       "Terry Frisk                              879\n",
       "Incident to Arrest|Inventory/Tow         582\n",
       "Plain View                               425\n",
       "Odor of Drugs/Alcohol|Probable Cause     153\n",
       "Probable Cause|Odor of Drugs/Alcohol     145\n",
       "Name: reason_for_search, dtype: int64"
      ]
     },
     "execution_count": 56,
     "metadata": {},
     "output_type": "execute_result"
    }
   ],
   "source": [
    "ri.reason_for_search.value_counts().head(10)"
   ]
  },
  {
   "cell_type": "code",
   "execution_count": 57,
   "id": "4f84a3e2",
   "metadata": {},
   "outputs": [
    {
     "name": "stderr",
     "output_type": "stream",
     "text": [
      "C:\\Users\\Juelputa\\AppData\\Local\\Temp\\ipykernel_8344\\1604594287.py:1: SettingWithCopyWarning: \n",
      "A value is trying to be set on a copy of a slice from a DataFrame.\n",
      "Try using .loc[row_indexer,col_indexer] = value instead\n",
      "\n",
      "See the caveats in the documentation: https://pandas.pydata.org/pandas-docs/stable/user_guide/indexing.html#returning-a-view-versus-a-copy\n",
      "  ri['frisk'] = ri.reason_for_search.str.contains('Terry Frisk', na= False)\n"
     ]
    }
   ],
   "source": [
    "ri['frisk'] = ri.reason_for_search.str.contains('Terry Frisk', na= False)"
   ]
  },
  {
   "cell_type": "code",
   "execution_count": 58,
   "id": "9ba0a41f",
   "metadata": {},
   "outputs": [
    {
     "name": "stdout",
     "output_type": "stream",
     "text": [
      "1598\n"
     ]
    }
   ],
   "source": [
    "\n",
    "# Take the sum of 'frisk'\n",
    "print(ri.frisk.sum())"
   ]
  },
  {
   "cell_type": "code",
   "execution_count": 59,
   "id": "eed12df0",
   "metadata": {},
   "outputs": [
    {
     "data": {
      "text/plain": [
       "0.08996734601959239"
      ]
     },
     "execution_count": 59,
     "metadata": {},
     "output_type": "execute_result"
    }
   ],
   "source": [
    "# Create a DataFrame of stops in which a search was conducted\n",
    "searched = ri[ri.search_conducted == True]\n",
    "\n",
    "# Calculate the overall frisk rate by taking the mean of 'frisk'\n",
    "searched.frisk.mean()\n",
    "\n"
   ]
  },
  {
   "cell_type": "code",
   "execution_count": 60,
   "id": "05a16e08",
   "metadata": {},
   "outputs": [
    {
     "data": {
      "text/plain": [
       "raw_OperatorSex\n",
       "F    0.066694\n",
       "M    0.093707\n",
       "Name: frisk, dtype: float64"
      ]
     },
     "execution_count": 60,
     "metadata": {},
     "output_type": "execute_result"
    }
   ],
   "source": [
    "# Calculate the frisk rate for each gender\n",
    "searched.groupby('raw_OperatorSex').frisk.mean()"
   ]
  },
  {
   "cell_type": "markdown",
   "id": "1a3b92b4",
   "metadata": {},
   "source": [
    "Time it occured"
   ]
  },
  {
   "cell_type": "code",
   "execution_count": 64,
   "id": "960f2c39",
   "metadata": {},
   "outputs": [
    {
     "data": {
      "text/plain": [
       "0.03454755048024903"
      ]
     },
     "execution_count": 64,
     "metadata": {},
     "output_type": "execute_result"
    }
   ],
   "source": [
    "# Calculate the overall arrest rate\n",
    "ri.arrest_made.mean()"
   ]
  },
  {
   "cell_type": "code",
   "execution_count": 65,
   "id": "23cce904",
   "metadata": {},
   "outputs": [],
   "source": [
    "\n",
    "# Calculate the hourly arrest rate\n",
    "ri.groupby(ri.index.hour).arrest_made.mean()\n",
    "\n",
    "# Save the hourly arrest rate\n",
    "hourly_arrest_rate = ri.groupby(ri.index.hour).arrest_made.mean()"
   ]
  },
  {
   "cell_type": "code",
   "execution_count": 66,
   "id": "027d68a5",
   "metadata": {},
   "outputs": [
    {
     "data": {
      "text/plain": [
       "datetime\n",
       "0     0.052151\n",
       "1     0.067127\n",
       "2     0.061067\n",
       "3     0.052613\n",
       "4     0.053897\n",
       "5     0.032657\n",
       "6     0.012949\n",
       "7     0.013829\n",
       "8     0.019717\n",
       "9     0.024699\n",
       "10    0.025583\n",
       "11    0.027078\n",
       "12    0.031361\n",
       "13    0.030250\n",
       "14    0.031531\n",
       "15    0.032125\n",
       "16    0.033519\n",
       "17    0.038989\n",
       "18    0.039902\n",
       "19    0.031366\n",
       "20    0.039292\n",
       "21    0.059956\n",
       "22    0.043980\n",
       "23    0.045087\n",
       "Name: arrest_made, dtype: float64"
      ]
     },
     "execution_count": 66,
     "metadata": {},
     "output_type": "execute_result"
    }
   ],
   "source": [
    "hourly_arrest_rate"
   ]
  },
  {
   "cell_type": "code",
   "execution_count": 67,
   "id": "42131a59",
   "metadata": {},
   "outputs": [
    {
     "data": {
      "image/png": "[encoded data removed]",
      "text/plain": [
       "<Figure size 432x288 with 1 Axes>"
      ]
     },
     "metadata": {
      "needs_background": "light"
     },
     "output_type": "display_data"
    }
   ],
   "source": [
    "hourly_arrest_rate.plot()\n",
    "# Add the xlabel, ylabel, and title\n",
    "plt.xlabel('Hour')\n",
    "plt.ylabel('Arrest Rate')\n",
    "plt.title('Arrest Rate by Time of Day')\n",
    "\n",
    "# Display the plot\n",
    "plt.show()"
   ]
  },
  {
   "cell_type": "code",
   "execution_count": 69,
   "id": "89b5b86a",
   "metadata": {},
   "outputs": [
    {
     "data": {
      "text/plain": [
       "False    11223\n",
       "True      4765\n",
       "Name: contraband_drugs, dtype: int64"
      ]
     },
     "execution_count": 69,
     "metadata": {},
     "output_type": "execute_result"
    }
   ],
   "source": [
    "ri.contraband_drugs.value_counts()"
   ]
  },
  {
   "cell_type": "code",
   "execution_count": 70,
   "id": "2b8ceb31",
   "metadata": {},
   "outputs": [
    {
     "data": {
      "image/png": "[encoded data removed]",
      "text/plain": [
       "<Figure size 432x288 with 1 Axes>"
      ]
     },
     "metadata": {
      "needs_background": "light"
     },
     "output_type": "display_data"
    }
   ],
   "source": [
    "# Calculate the annual rate of drug-related stops\n",
    "ri.contraband_drugs.resample('A').mean()\n",
    "# Save the annual rate of drug-related stops\n",
    "annual_drug_rate = ri.contraband_drugs.resample('A').mean()\n",
    "# Create a line plot of 'annual_drug_rate'\n",
    "annual_drug_rate.plot()\n",
    "#display the plot\n",
    "plt.show()"
   ]
  },
  {
   "cell_type": "code",
   "execution_count": null,
   "id": "a86cfce4",
   "metadata": {},
   "outputs": [],
   "source": []
  },
  {
   "cell_type": "code",
   "execution_count": 71,
   "id": "d96f02ee",
   "metadata": {},
   "outputs": [
    {
     "data": {
      "image/png": "[encoded data removed]",
      "text/plain": [
       "<Figure size 432x288 with 2 Axes>"
      ]
     },
     "metadata": {
      "needs_background": "light"
     },
     "output_type": "display_data"
    }
   ],
   "source": [
    "# Calculate and save the annual search rate\n",
    "annual_search_rate = ri.search_conducted.resample('A').mean()\n",
    "\n",
    "# Concatenate 'annual_drug_rate' and 'annual_search_rate'\n",
    "annual = pd.concat([annual_drug_rate, annual_search_rate], axis='columns')\n",
    "\n",
    "# Create subplots from 'annual'\n",
    "annual.plot(subplots=True)\n",
    "\n",
    "# Display the subplots\n",
    "plt.show()"
   ]
  },
  {
   "cell_type": "code",
   "execution_count": 72,
   "id": "cb5f08a8",
   "metadata": {},
   "outputs": [
    {
     "data": {
      "text/html": [
       "<div>\n",
       "<style scoped>\n",
       "    .dataframe tbody tr th:only-of-type {\n",
       "        vertical-align: middle;\n",
       "    }\n",
       "\n",
       "    .dataframe tbody tr th {\n",
       "        vertical-align: top;\n",
       "    }\n",
       "\n",
       "    .dataframe thead th {\n",
       "        text-align: right;\n",
       "    }\n",
       "</style>\n",
       "<table border=\"1\" class=\"dataframe\">\n",
       "  <thead>\n",
       "    <tr style=\"text-align: right;\">\n",
       "      <th>reason_for_stop</th>\n",
       "      <th>APB</th>\n",
       "      <th>Call for Service</th>\n",
       "      <th>Equipment/Inspection Violation</th>\n",
       "      <th>Motorist Assist/Courtesy</th>\n",
       "      <th>Other Traffic Violation</th>\n",
       "      <th>Registration Violation</th>\n",
       "      <th>Seatbelt Violation</th>\n",
       "      <th>Special Detail/Directed Patrol</th>\n",
       "      <th>Speeding</th>\n",
       "      <th>Suspicious Person</th>\n",
       "      <th>Violation of City/Town Ordinance</th>\n",
       "      <th>Warrant</th>\n",
       "    </tr>\n",
       "    <tr>\n",
       "      <th>zone</th>\n",
       "      <th></th>\n",
       "      <th></th>\n",
       "      <th></th>\n",
       "      <th></th>\n",
       "      <th></th>\n",
       "      <th></th>\n",
       "      <th></th>\n",
       "      <th></th>\n",
       "      <th></th>\n",
       "      <th></th>\n",
       "      <th></th>\n",
       "      <th></th>\n",
       "    </tr>\n",
       "  </thead>\n",
       "  <tbody>\n",
       "    <tr>\n",
       "      <th>K1</th>\n",
       "      <td>32</td>\n",
       "      <td>281</td>\n",
       "      <td>3786</td>\n",
       "      <td>78</td>\n",
       "      <td>7127</td>\n",
       "      <td>628</td>\n",
       "      <td>1</td>\n",
       "      <td>1009</td>\n",
       "      <td>33067</td>\n",
       "      <td>72</td>\n",
       "      <td>21</td>\n",
       "      <td>8</td>\n",
       "    </tr>\n",
       "    <tr>\n",
       "      <th>K2</th>\n",
       "      <td>101</td>\n",
       "      <td>1036</td>\n",
       "      <td>11285</td>\n",
       "      <td>118</td>\n",
       "      <td>16440</td>\n",
       "      <td>4056</td>\n",
       "      <td>2897</td>\n",
       "      <td>3539</td>\n",
       "      <td>57500</td>\n",
       "      <td>59</td>\n",
       "      <td>237</td>\n",
       "      <td>13</td>\n",
       "    </tr>\n",
       "    <tr>\n",
       "      <th>K3</th>\n",
       "      <td>144</td>\n",
       "      <td>1227</td>\n",
       "      <td>12959</td>\n",
       "      <td>258</td>\n",
       "      <td>16218</td>\n",
       "      <td>3871</td>\n",
       "      <td>3660</td>\n",
       "      <td>2011</td>\n",
       "      <td>68234</td>\n",
       "      <td>68</td>\n",
       "      <td>194</td>\n",
       "      <td>24</td>\n",
       "    </tr>\n",
       "    <tr>\n",
       "      <th>X1</th>\n",
       "      <td>6</td>\n",
       "      <td>198</td>\n",
       "      <td>1725</td>\n",
       "      <td>33</td>\n",
       "      <td>3711</td>\n",
       "      <td>192</td>\n",
       "      <td>451</td>\n",
       "      <td>503</td>\n",
       "      <td>6393</td>\n",
       "      <td>5</td>\n",
       "      <td>6</td>\n",
       "      <td>1</td>\n",
       "    </tr>\n",
       "    <tr>\n",
       "      <th>X3</th>\n",
       "      <td>64</td>\n",
       "      <td>1328</td>\n",
       "      <td>11520</td>\n",
       "      <td>323</td>\n",
       "      <td>17178</td>\n",
       "      <td>3532</td>\n",
       "      <td>4445</td>\n",
       "      <td>1996</td>\n",
       "      <td>48687</td>\n",
       "      <td>41</td>\n",
       "      <td>282</td>\n",
       "      <td>35</td>\n",
       "    </tr>\n",
       "    <tr>\n",
       "      <th>X4</th>\n",
       "      <td>138</td>\n",
       "      <td>3535</td>\n",
       "      <td>19975</td>\n",
       "      <td>179</td>\n",
       "      <td>29554</td>\n",
       "      <td>7551</td>\n",
       "      <td>4870</td>\n",
       "      <td>4584</td>\n",
       "      <td>54855</td>\n",
       "      <td>97</td>\n",
       "      <td>296</td>\n",
       "      <td>36</td>\n",
       "    </tr>\n",
       "  </tbody>\n",
       "</table>\n",
       "</div>"
      ],
      "text/plain": [
       "reason_for_stop  APB  Call for Service  Equipment/Inspection Violation  \\\n",
       "zone                                                                     \n",
       "K1                32               281                            3786   \n",
       "K2               101              1036                           11285   \n",
       "K3               144              1227                           12959   \n",
       "X1                 6               198                            1725   \n",
       "X3                64              1328                           11520   \n",
       "X4               138              3535                           19975   \n",
       "\n",
       "reason_for_stop  Motorist Assist/Courtesy  Other Traffic Violation  \\\n",
       "zone                                                                 \n",
       "K1                                     78                     7127   \n",
       "K2                                    118                    16440   \n",
       "K3                                    258                    16218   \n",
       "X1                                     33                     3711   \n",
       "X3                                    323                    17178   \n",
       "X4                                    179                    29554   \n",
       "\n",
       "reason_for_stop  Registration Violation  Seatbelt Violation  \\\n",
       "zone                                                          \n",
       "K1                                  628                   1   \n",
       "K2                                 4056                2897   \n",
       "K3                                 3871                3660   \n",
       "X1                                  192                 451   \n",
       "X3                                 3532                4445   \n",
       "X4                                 7551                4870   \n",
       "\n",
       "reason_for_stop  Special Detail/Directed Patrol  Speeding  Suspicious Person  \\\n",
       "zone                                                                           \n",
       "K1                                         1009     33067                 72   \n",
       "K2                                         3539     57500                 59   \n",
       "K3                                         2011     68234                 68   \n",
       "X1                                          503      6393                  5   \n",
       "X3                                         1996     48687                 41   \n",
       "X4                                         4584     54855                 97   \n",
       "\n",
       "reason_for_stop  Violation of City/Town Ordinance  Warrant  \n",
       "zone                                                        \n",
       "K1                                             21        8  \n",
       "K2                                            237       13  \n",
       "K3                                            194       24  \n",
       "X1                                              6        1  \n",
       "X3                                            282       35  \n",
       "X4                                            296       36  "
      ]
     },
     "execution_count": 72,
     "metadata": {},
     "output_type": "execute_result"
    }
   ],
   "source": [
    "# Create a frequency table of districts and violations\n",
    "pd.crosstab(ri.zone, ri.reason_for_stop)"
   ]
  },
  {
   "cell_type": "code",
   "execution_count": 75,
   "id": "578f0afc",
   "metadata": {},
   "outputs": [],
   "source": [
    "\n",
    "\n",
    "\n",
    "# Save the frequency table as 'all_zones'\n",
    "all_zones = pd.crosstab(ri.zone, ri.reason_for_stop)\n",
    "\n",
    "# Select rows 'Zone K1' through 'Zone K3'\n",
    "k_zones = all_zones.loc['K1': 'K3'] "
   ]
  },
  {
   "cell_type": "code",
   "execution_count": 80,
   "id": "d9968191",
   "metadata": {},
   "outputs": [
    {
     "data": {
      "image/png": "[encoded data removed]",
      "text/plain": [
       "<Figure size 432x288 with 1 Axes>"
      ]
     },
     "metadata": {
      "needs_background": "light"
     },
     "output_type": "display_data"
    }
   ],
   "source": [
    "# Create a bar plot of 'k_zones'\n",
    "k_zones.plot(kind = 'bar')\n",
    "# Display the plot\n",
    "plt.show()"
   ]
  },
  {
   "cell_type": "code",
   "execution_count": 77,
   "id": "ca8ddfa2",
   "metadata": {},
   "outputs": [
    {
     "data": {
      "image/png": "[encoded data removed]",
      "text/plain": [
       "<Figure size 432x288 with 1 Axes>"
      ]
     },
     "metadata": {
      "needs_background": "light"
     },
     "output_type": "display_data"
    }
   ],
   "source": [
    "# Create a bar plot of 'k_zones'\n",
    "k_zones.plot(kind = 'bar', stacked = True)\n",
    "\n",
    "# Display the plot\n",
    "plt.show()"
   ]
  },
  {
   "cell_type": "code",
   "execution_count": null,
   "id": "415dbffb",
   "metadata": {},
   "outputs": [],
   "source": []
  },
  {
   "cell_type": "code",
   "execution_count": null,
   "id": "24187545",
   "metadata": {},
   "outputs": [],
   "source": []
  },
  {
   "cell_type": "code",
   "execution_count": null,
   "id": "eaf53847",
   "metadata": {},
   "outputs": [],
   "source": []
  },
  {
   "cell_type": "code",
   "execution_count": null,
   "id": "3a80bd07",
   "metadata": {},
   "outputs": [],
   "source": []
  },
  {
   "cell_type": "code",
   "execution_count": null,
   "id": "e2dce9af",
   "metadata": {},
   "outputs": [],
   "source": []
  }
 ],
 "metadata": {
  "kernelspec": {
   "display_name": "Python 3 (ipykernel)",
   "language": "python",
   "name": "python3"
  },
  "language_info": {
   "codemirror_mode": {
    "name": "ipython",
    "version": 3
   },
   "file_extension": ".py",
   "mimetype": "text/x-python",
   "name": "python",
   "nbconvert_exporter": "python",
   "pygments_lexer": "ipython3",
   "version": "3.9.12"
  }
 },
 "nbformat": 4,
 "nbformat_minor": 5
}
